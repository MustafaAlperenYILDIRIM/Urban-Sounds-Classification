{
  "nbformat": 4,
  "nbformat_minor": 0,
  "metadata": {
    "colab": {
      "provenance": [],
      "authorship_tag": "ABX9TyMLNrB9OHHUzH+u/iezz1N3",
      "include_colab_link": true
    },
    "kernelspec": {
      "name": "python3",
      "display_name": "Python 3"
    },
    "language_info": {
      "name": "python"
    }
  },
  "cells": [
    {
      "cell_type": "markdown",
      "metadata": {
        "id": "view-in-github",
        "colab_type": "text"
      },
      "source": [
        "<a href=\"https://colab.research.google.com/github/MustafaAlperenYILDIRIM/Urban-Sounds-Classification/blob/main/Urban_Sounds_Classification-CNN.ipynb\" target=\"_parent\"><img src=\"https://colab.research.google.com/assets/colab-badge.svg\" alt=\"Open In Colab\"/></a>"
      ]
    },
    {
      "cell_type": "code",
      "execution_count": 175,
      "metadata": {
        "id": "oGZBrmH_n3FL"
      },
      "outputs": [],
      "source": [
        "import numpy as np\n",
        "from numpy import genfromtxt\n",
        "from keras import Sequential\n",
        "from keras.layers import Dense,Conv2D,MaxPooling2D,Flatten,Dropout\n",
        "from keras.utils.np_utils import to_categorical"
      ]
    },
    {
      "cell_type": "code",
      "source": [
        "x_train = genfromtxt('train_data (1).csv', delimiter=',')\n",
        "y_train = genfromtxt('train_labels (1).csv', delimiter=',')\n",
        "x_test = genfromtxt('test_data (1).csv', delimiter=',')\n",
        "y_test = genfromtxt('test_labels (1).csv', delimiter=',')"
      ],
      "metadata": {
        "id": "CoWHQfAEoT19"
      },
      "execution_count": 176,
      "outputs": []
    },
    {
      "cell_type": "code",
      "source": [
        "x_train.shape,x_test.shape,y_train.shape,y_test.shape"
      ],
      "metadata": {
        "colab": {
          "base_uri": "https://localhost:8080/"
        },
        "id": "Zokw1kZhoXdD",
        "outputId": "e16a53b7-3c5a-4266-e694-9e5b84fd00ed"
      },
      "execution_count": 177,
      "outputs": [
        {
          "output_type": "execute_result",
          "data": {
            "text/plain": [
              "((7895, 180), (837, 180), (7895,), (837,))"
            ]
          },
          "metadata": {},
          "execution_count": 177
        }
      ]
    },
    {
      "cell_type": "code",
      "source": [
        "y_train = to_categorical(y_train, num_classes=10)\n",
        "y_test = to_categorical(y_test, num_classes=10)\n",
        "y_train.shape,y_test.shape"
      ],
      "metadata": {
        "colab": {
          "base_uri": "https://localhost:8080/"
        },
        "id": "C9gv0apXoX3p",
        "outputId": "eb5ac63a-6716-408f-c07c-f2a6b918609f"
      },
      "execution_count": 178,
      "outputs": [
        {
          "output_type": "execute_result",
          "data": {
            "text/plain": [
              "((7895, 10), (837, 10))"
            ]
          },
          "metadata": {},
          "execution_count": 178
        }
      ]
    },
    {
      "cell_type": "code",
      "source": [
        "x_train=np.reshape(x_train,(x_train.shape[0], 30,6))\n",
        "x_test=np.reshape(x_test,(x_test.shape[0], 30,6))\n",
        "x_train.shape,x_test.shape"
      ],
      "metadata": {
        "colab": {
          "base_uri": "https://localhost:8080/"
        },
        "id": "GulgWAmiocy3",
        "outputId": "a85d37ab-01ed-46a3-e539-bf9ca6b18369"
      },
      "execution_count": 179,
      "outputs": [
        {
          "output_type": "execute_result",
          "data": {
            "text/plain": [
              "((7895, 30, 6), (837, 30, 6))"
            ]
          },
          "metadata": {},
          "execution_count": 179
        }
      ]
    },
    {
      "cell_type": "code",
      "source": [
        "x_train=np.reshape(x_train,(x_train.shape[0], 30,6,1))\n",
        "x_test=np.reshape(x_test,(x_test.shape[0], 30,6,1))"
      ],
      "metadata": {
        "id": "3b_bMhSeofvK"
      },
      "execution_count": 180,
      "outputs": []
    },
    {
      "cell_type": "code",
      "source": [
        "x_train.shape,x_test.shape"
      ],
      "metadata": {
        "colab": {
          "base_uri": "https://localhost:8080/"
        },
        "id": "6oY3FBby_Ofz",
        "outputId": "514d08f8-61aa-4a24-d53a-94dd02fbb6d4"
      },
      "execution_count": 181,
      "outputs": [
        {
          "output_type": "execute_result",
          "data": {
            "text/plain": [
              "((7895, 30, 6, 1), (837, 30, 6, 1))"
            ]
          },
          "metadata": {},
          "execution_count": 181
        }
      ]
    },
    {
      "cell_type": "code",
      "source": [
        "model=Sequential()"
      ],
      "metadata": {
        "id": "JID8sUQaogY7"
      },
      "execution_count": 182,
      "outputs": []
    },
    {
      "cell_type": "code",
      "source": [
        "model.add(Conv2D(64,kernel_size=5,strides=1,padding=\"Same\",activation=\"relu\",input_shape=(30,6,1)))\n",
        "model.add(MaxPooling2D(padding=\"same\"))\n",
        "\n",
        "model.add(Conv2D(128,kernel_size=5,strides=1,padding=\"same\",activation=\"relu\"))\n",
        "model.add(MaxPooling2D(padding=\"same\"))\n",
        "model.add(Dropout(0.3))\n",
        "\n",
        "model.add(Flatten())\n",
        "\n",
        "model.add(Dense(256,activation=\"relu\"))\n",
        "model.add(Dropout(0.3))\n",
        "\n",
        "model.add(Dense(512,activation=\"relu\"))\n",
        "model.add(Dropout(0.3))\n",
        "\n",
        "model.add(Dense(10,activation=\"softmax\"))"
      ],
      "metadata": {
        "id": "860diH2tojY0"
      },
      "execution_count": 183,
      "outputs": []
    },
    {
      "cell_type": "code",
      "source": [
        "model.compile(optimizer=\"adam\",loss=\"categorical_crossentropy\",metrics=[\"accuracy\"])"
      ],
      "metadata": {
        "id": "X1LUf0BComjJ"
      },
      "execution_count": 184,
      "outputs": []
    },
    {
      "cell_type": "code",
      "source": [
        "model.fit(x_train,y_train,batch_size=50,epochs=30,validation_data=(x_test,y_test))"
      ],
      "metadata": {
        "colab": {
          "base_uri": "https://localhost:8080/"
        },
        "id": "ottQ4Rqhp809",
        "outputId": "35f2ddd4-53bc-40aa-86d5-6a7951d8a0d5"
      },
      "execution_count": 185,
      "outputs": [
        {
          "output_type": "stream",
          "name": "stdout",
          "text": [
            "Epoch 1/30\n",
            "158/158 [==============================] - 16s 97ms/step - loss: 2.0125 - accuracy: 0.2951 - val_loss: 1.5504 - val_accuracy: 0.4683\n",
            "Epoch 2/30\n",
            "158/158 [==============================] - 15s 95ms/step - loss: 1.5102 - accuracy: 0.4702 - val_loss: 1.3371 - val_accuracy: 0.5663\n",
            "Epoch 3/30\n",
            "158/158 [==============================] - 15s 95ms/step - loss: 1.1681 - accuracy: 0.5965 - val_loss: 1.1821 - val_accuracy: 0.6476\n",
            "Epoch 4/30\n",
            "158/158 [==============================] - 15s 95ms/step - loss: 0.9913 - accuracy: 0.6647 - val_loss: 1.1609 - val_accuracy: 0.6189\n",
            "Epoch 5/30\n",
            "158/158 [==============================] - 16s 99ms/step - loss: 0.8584 - accuracy: 0.7099 - val_loss: 1.0182 - val_accuracy: 0.6428\n",
            "Epoch 6/30\n",
            "158/158 [==============================] - 16s 102ms/step - loss: 0.7652 - accuracy: 0.7411 - val_loss: 1.0330 - val_accuracy: 0.6559\n",
            "Epoch 7/30\n",
            "158/158 [==============================] - 15s 95ms/step - loss: 0.6674 - accuracy: 0.7767 - val_loss: 1.0649 - val_accuracy: 0.6571\n",
            "Epoch 8/30\n",
            "158/158 [==============================] - 15s 95ms/step - loss: 0.6256 - accuracy: 0.7933 - val_loss: 1.0146 - val_accuracy: 0.6714\n",
            "Epoch 9/30\n",
            "158/158 [==============================] - 15s 95ms/step - loss: 0.5755 - accuracy: 0.8161 - val_loss: 1.0095 - val_accuracy: 0.6667\n",
            "Epoch 10/30\n",
            "158/158 [==============================] - 15s 95ms/step - loss: 0.5380 - accuracy: 0.8199 - val_loss: 0.9512 - val_accuracy: 0.7085\n",
            "Epoch 11/30\n",
            "158/158 [==============================] - 15s 95ms/step - loss: 0.5079 - accuracy: 0.8347 - val_loss: 0.9698 - val_accuracy: 0.7121\n",
            "Epoch 12/30\n",
            "158/158 [==============================] - 15s 95ms/step - loss: 0.4657 - accuracy: 0.8519 - val_loss: 0.9208 - val_accuracy: 0.7049\n",
            "Epoch 13/30\n",
            "158/158 [==============================] - 15s 95ms/step - loss: 0.4560 - accuracy: 0.8566 - val_loss: 1.0150 - val_accuracy: 0.6476\n",
            "Epoch 14/30\n",
            "158/158 [==============================] - 15s 96ms/step - loss: 0.4485 - accuracy: 0.8557 - val_loss: 0.9194 - val_accuracy: 0.7109\n",
            "Epoch 15/30\n",
            "158/158 [==============================] - 15s 95ms/step - loss: 0.4177 - accuracy: 0.8618 - val_loss: 0.8622 - val_accuracy: 0.7085\n",
            "Epoch 16/30\n",
            "158/158 [==============================] - 16s 103ms/step - loss: 0.3968 - accuracy: 0.8731 - val_loss: 1.0177 - val_accuracy: 0.7121\n",
            "Epoch 17/30\n",
            "158/158 [==============================] - 15s 95ms/step - loss: 0.3758 - accuracy: 0.8771 - val_loss: 0.9749 - val_accuracy: 0.7252\n",
            "Epoch 18/30\n",
            "158/158 [==============================] - 15s 96ms/step - loss: 0.3439 - accuracy: 0.8844 - val_loss: 0.8837 - val_accuracy: 0.6930\n",
            "Epoch 19/30\n",
            "158/158 [==============================] - 15s 95ms/step - loss: 0.3171 - accuracy: 0.8968 - val_loss: 1.0004 - val_accuracy: 0.7109\n",
            "Epoch 20/30\n",
            "158/158 [==============================] - 15s 96ms/step - loss: 0.3242 - accuracy: 0.8977 - val_loss: 1.0273 - val_accuracy: 0.7168\n",
            "Epoch 21/30\n",
            "158/158 [==============================] - 15s 95ms/step - loss: 0.3426 - accuracy: 0.8871 - val_loss: 1.0352 - val_accuracy: 0.6918\n",
            "Epoch 22/30\n",
            "158/158 [==============================] - 15s 96ms/step - loss: 0.3095 - accuracy: 0.8982 - val_loss: 1.0124 - val_accuracy: 0.7145\n",
            "Epoch 23/30\n",
            "158/158 [==============================] - 15s 95ms/step - loss: 0.3133 - accuracy: 0.8980 - val_loss: 0.9575 - val_accuracy: 0.7204\n",
            "Epoch 24/30\n",
            "158/158 [==============================] - 15s 96ms/step - loss: 0.2934 - accuracy: 0.9094 - val_loss: 0.9935 - val_accuracy: 0.7097\n",
            "Epoch 25/30\n",
            "158/158 [==============================] - 15s 96ms/step - loss: 0.2715 - accuracy: 0.9121 - val_loss: 1.0311 - val_accuracy: 0.7300\n",
            "Epoch 26/30\n",
            "158/158 [==============================] - 16s 103ms/step - loss: 0.2696 - accuracy: 0.9099 - val_loss: 1.2138 - val_accuracy: 0.6989\n",
            "Epoch 27/30\n",
            "158/158 [==============================] - 15s 96ms/step - loss: 0.2720 - accuracy: 0.9075 - val_loss: 1.2279 - val_accuracy: 0.6726\n",
            "Epoch 28/30\n",
            "158/158 [==============================] - 15s 96ms/step - loss: 0.2508 - accuracy: 0.9177 - val_loss: 1.1272 - val_accuracy: 0.7001\n",
            "Epoch 29/30\n",
            "158/158 [==============================] - 15s 95ms/step - loss: 0.2772 - accuracy: 0.9125 - val_loss: 1.2577 - val_accuracy: 0.6643\n",
            "Epoch 30/30\n",
            "158/158 [==============================] - 15s 96ms/step - loss: 0.3411 - accuracy: 0.9035 - val_loss: 1.1814 - val_accuracy: 0.6965\n"
          ]
        },
        {
          "output_type": "execute_result",
          "data": {
            "text/plain": [
              "<keras.callbacks.History at 0x7f8efb46ec50>"
            ]
          },
          "metadata": {},
          "execution_count": 185
        }
      ]
    },
    {
      "cell_type": "code",
      "source": [
        "train_loss_score=model.evaluate(x_train,y_train)\n",
        "test_loss_score=model.evaluate(x_test,y_test)\n",
        "print(train_loss_score)\n",
        "print(test_loss_score)"
      ],
      "metadata": {
        "colab": {
          "base_uri": "https://localhost:8080/"
        },
        "id": "i1ibTEtbqDxF",
        "outputId": "e422addb-7c38-49b7-da36-da0fcd62f51d"
      },
      "execution_count": 186,
      "outputs": [
        {
          "output_type": "stream",
          "name": "stdout",
          "text": [
            "247/247 [==============================] - 4s 16ms/step - loss: 0.1443 - accuracy: 0.9549\n",
            "27/27 [==============================] - 0s 16ms/step - loss: 1.1814 - accuracy: 0.6965\n",
            "[0.14432035386562347, 0.9549081921577454]\n",
            "[1.1814019680023193, 0.6965352296829224]\n"
          ]
        }
      ]
    }
  ]
}